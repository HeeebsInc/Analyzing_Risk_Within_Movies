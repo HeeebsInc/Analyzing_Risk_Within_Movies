{
 "cells": [
  {
   "cell_type": "code",
   "execution_count": null,
   "metadata": {},
   "outputs": [],
   "source": [
    "import pandas as pd \n",
    "import matplotlib.pyplot as plt\n",
    "import numpy as np\n",
    "from tqdm import tqdm\n",
    "from collections import defaultdict\n",
    "pd.options.display.max_rows = 100\n",
    "pd.options.display.max_columns = None\n",
    "\n"
   ]
  },
  {
   "cell_type": "markdown",
   "metadata": {},
   "source": [
    "### Success Defined Through Revenue\n",
    "\n",
    "- Find the highest profitting films \n",
    "    - genres \n",
    "    - actors \n",
    "    - directors \n",
    "    - budget \n",
    "    - word title\n",
    "    - length "
   ]
  },
  {
   "cell_type": "markdown",
   "metadata": {},
   "source": [
    "### 23m Data (profit/revenue)"
   ]
  },
  {
   "cell_type": "code",
   "execution_count": null,
   "metadata": {},
   "outputs": [],
   "source": []
  },
  {
   "cell_type": "code",
   "execution_count": null,
   "metadata": {},
   "outputs": [],
   "source": [
    "ratings_25m = pd.read_csv('../../data/m_23/movies_metadata.csv')\n",
    "print(ratings_25m.shape)\n",
    "print(ratings_25m.columns)\n",
    "ratings_25m.head(3)\n",
    "#revenue_df['profit'] = round(pd.to_numeric(revenue_df.revenue) - pd.to_numeric(revenue_df.budget), 2)\n",
    "col = ['imdb_id', 'title', 'release_date', 'budget', 'revenue', 'genres', 'adult', 'overview']\n",
    "revenue_df = ratings_25m[[i for i in col]]"
   ]
  },
  {
   "cell_type": "code",
   "execution_count": null,
   "metadata": {},
   "outputs": [],
   "source": [
    "\n"
   ]
  },
  {
   "cell_type": "code",
   "execution_count": null,
   "metadata": {},
   "outputs": [],
   "source": [
    "\n",
    "def budget_numeric(df): \n",
    "    new_col = []\n",
    "    new_df = df[[i for i in df.columns.to_list() if i!= 'budget']]\n",
    "    col_val = np.array(df[f'budget'])\n",
    "    for item in col_val: \n",
    "        if '.jpg' in item: \n",
    "            new_col.append(None)\n",
    "        else: \n",
    "            new_col.append(float(item))\n",
    "    new_df['budget'] = new_col\n",
    "    return new_df\n",
    "\n",
    "def profits(df):\n",
    "    new_df = df\n",
    "    new_df['profit'] = round(new_df.revenue - new_df.budget,2)\n",
    "    return new_df\n",
    "\n",
    "def dates_func(x):\n",
    "    if type(x) != str: \n",
    "        return None\n",
    "    else: \n",
    "        return x.split('-')[0]\n",
    "def dates(df): \n",
    "    dates = df.release_date \n",
    "    df.drop(['release_date'], axis = 1, inplace = True)\n",
    "    df['date'] = dates.map(dates_func)\n",
    "    return df\n",
    "\n",
    "def genres1(df):\n",
    "    genre_list = df.genres.values\n",
    "    genres = defaultdict(int)\n",
    "    new_genres = []\n",
    "    for i in tqdm(genre_list): \n",
    "        if i[0] == '[' and i[1] == ']': \n",
    "            new_genres.append(None)\n",
    "            continue \n",
    "        first = i.split('}, ')[0]\n",
    "        name_loc = first.find(\"'name': \")\n",
    "        new_g= first[name_loc +9:]\n",
    "        new_g = new_g[:new_g.find(\"'\")].strip()\n",
    "        new_genres.append(new_g)\n",
    "    df['genre'] = new_genres\n",
    "    df.drop('genres', axis =1, inplace = True)\n",
    "\n",
    "\n",
    "        \n",
    "    df.to_csv('../UsedData/23mRevenueTEST.csv', index = False)\n",
    "\n",
    "\n",
    "    return df\n",
    "\n",
    "def genres2(df):\n",
    "    genre_list = df.genres.values\n",
    "    genres = defaultdict(int)\n",
    "    new_genre = []\n",
    "    for i in genre_list: \n",
    "        if i[0] == '[' and i[1] == ']': \n",
    "            continue \n",
    "        dic_split = i.split(', ')\n",
    "        for d in dic_split: \n",
    "            name_loc = d.find(\"'name': \")\n",
    "            new_d= d[name_loc +9:]\n",
    "            new_d = new_d[:new_d.find(\"'\")].strip()\n",
    "            #new_d = new_d[:new_d.find(\"'\")].strip()\n",
    "            genres[new_d]+=1\n",
    "    for g in tqdm(genres.keys()): \n",
    "        df[f'{g}'] = [0 for i in range(len(df))]\n",
    "    for pos in tqdm(range(len(df))): \n",
    "        i = df.iloc[pos].genres\n",
    "        if i[0] == '[' and i[1] == ']': \n",
    "            new_genre.append(None)\n",
    "            continue \n",
    "        dic_split = i.split(', ')\n",
    "        for idx, d in enumerate(dic_split): \n",
    "            name_loc = d.find(\"'name': \")\n",
    "            new_d= d[name_loc +9:]\n",
    "            new_d = new_d[:new_d.find(\"'\")].strip()\n",
    "            if idx == 0:\n",
    "                new_genre.append(new_d)\n",
    "            df.iloc[pos, df.columns.get_loc(f'{new_d}')] = 1\n",
    "\n",
    "\n",
    "    #print(len(df), len(new_genre))        \n",
    "    df['genre'] = new_genre\n",
    "    df.drop('genres', axis =1, inplace = True)\n",
    "    df.to_csv('../UsedData/23mRevenueNEW.csv', index = False)\n",
    "    return df\n",
    "\n",
    "        \n",
    "\n",
    "\n",
    "    \n",
    "\n",
    "cleaned_23m = budget_numeric(revenue_df)\n",
    "cleaned_23m = profits(cleaned_23m)\n",
    "cleaned_23m = dates(cleaned_23m)\n",
    "cleaned_23m_one_hot = genres2(cleaned_23m)                 \n",
    "cleaned_23m = genres1(cleaned_23m)"
   ]
  },
  {
   "cell_type": "code",
   "execution_count": null,
   "metadata": {
    "scrolled": true
   },
   "outputs": [],
   "source": [
    "cleaned_23m"
   ]
  },
  {
   "cell_type": "code",
   "execution_count": null,
   "metadata": {},
   "outputs": [],
   "source": []
  },
  {
   "cell_type": "code",
   "execution_count": null,
   "metadata": {
    "scrolled": true
   },
   "outputs": [],
   "source": []
  },
  {
   "cell_type": "code",
   "execution_count": null,
   "metadata": {},
   "outputs": [],
   "source": []
  },
  {
   "cell_type": "markdown",
   "metadata": {},
   "source": [
    "## MovieLens Data for Genre and Ratings"
   ]
  },
  {
   "cell_type": "code",
   "execution_count": null,
   "metadata": {},
   "outputs": [],
   "source": [
    "def dates(x):\n",
    "    num = '1 2 3 4 5 6 7 8 9 0'.split()\n",
    "    if x.strip()[-1] != ')' or x.strip()[-2] not in num: \n",
    "        return None\n",
    "    else: \n",
    "        return x.strip()[-5:-1]\n",
    "\n",
    "def title(x): \n",
    "    num = '1 2 3 4 5 6 7 8 9 0'.split()\n",
    "    x = x.strip()\n",
    "    if x[-1] != ')' or x[-2] not in num: \n",
    "        return x\n",
    "    else: \n",
    "        return x[:-5]\n",
    "\n",
    "def sort_genres(df):\n",
    "    genre_dict = defaultdict(int)\n",
    "    genre_list = np.array(df.genres)\n",
    "    for genre in tqdm(genre_list): \n",
    "        g_split = genre.split('|')\n",
    "        for i in g_split:\n",
    "            genre_dict[i]+=1\n",
    "    for g in tqdm(genre_dict.keys()): \n",
    "        df[f'{g}'] = [0 for i in range(len(df))]\n",
    "    for pos in tqdm(range(len(df))): \n",
    "        row = df.iloc[pos]\n",
    "        g_split = row['genres'].split('|')\n",
    "        for i in g_split: \n",
    "            df.iloc[pos, df.columns.get_loc(f'{i}')] = 1\n",
    "    df.to_csv('../UsedData/MovieLensMoviesCleaned.csv', index = False)\n",
    "    return df"
   ]
  },
  {
   "cell_type": "code",
   "execution_count": null,
   "metadata": {},
   "outputs": [],
   "source": []
  },
  {
   "cell_type": "code",
   "execution_count": null,
   "metadata": {},
   "outputs": [],
   "source": [
    "movie_lens = pd.read_csv('../../data/MovieLens/movies.csv')\n",
    "print(movie_lens.shape)\n",
    "print(movie_lens.columns)\n",
    "movie_lens['date'] = movie_lens.title.map(dates)\n",
    "title_s = movie_lens['title']\n",
    "movie_lens.drop(['title'], axis = 1, inplace = True)\n",
    "movie_lens['title'] = title_s.map(lambda x: x[:-6].strip())\n",
    "movie_lens = movie_lens[['movieId', 'title', 'date', 'genres']].sort_values(by = ['date'], ascending = False)\n",
    "movie_lens.head(5)\n",
    "movie_lens_sorted = sort_genres(movie_lens)"
   ]
  },
  {
   "cell_type": "code",
   "execution_count": null,
   "metadata": {},
   "outputs": [],
   "source": [
    "\n",
    "        \n",
    "        \n",
    "\n"
   ]
  },
  {
   "cell_type": "code",
   "execution_count": null,
   "metadata": {},
   "outputs": [],
   "source": [
    "movie_lens_movies = movie_lens_sorted"
   ]
  },
  {
   "cell_type": "code",
   "execution_count": null,
   "metadata": {},
   "outputs": [],
   "source": [
    "movie_lens_movies"
   ]
  },
  {
   "cell_type": "markdown",
   "metadata": {},
   "source": [
    "### MovieLens Ratings"
   ]
  },
  {
   "cell_type": "code",
   "execution_count": null,
   "metadata": {},
   "outputs": [],
   "source": [
    "cd ../data/m_23\n"
   ]
  },
  {
   "cell_type": "code",
   "execution_count": null,
   "metadata": {},
   "outputs": [],
   "source": [
    "#movie_lens_ratings = pd.read_csv('data/MovieLens/ratings.csv')\n",
    "\n",
    "ratings_23m = pd.read_csv('../../data/m_23/ratings.csv')"
   ]
  },
  {
   "cell_type": "markdown",
   "metadata": {},
   "source": [
    "### Merge Ratings, revenues, movies"
   ]
  },
  {
   "cell_type": "code",
   "execution_count": null,
   "metadata": {},
   "outputs": [],
   "source": [
    "def agg_ratings(df):\n",
    "    grouped_df = df.groupby('movieId')\n",
    "    rating_avg = grouped_df.rating.mean().values\n",
    "    sum_interactions = grouped_df.rating.count()\n",
    "    movie_id = sum_interactions.index\n",
    "    sum_inter = sum_interactions.values\n",
    "    new_df = pd.DataFrame({'movieId': movie_id, 'AvgRating': rating_avg, 'NumInteractions': sum_interactions})\n",
    "    new_df.to_csv('../UsedData/MovieLensRatingsAgg.csv', index = False)\n",
    "    return new_df.reset_index(drop = True)\n",
    "    \n",
    "\n",
    "    \n",
    "    \n",
    "    \n",
    "\n",
    "def merge_df(revenue_df, movie_df, rating_df):\n",
    "    \n",
    "    #merge revenue and movie first \n",
    "    merge_df = pd.merge(movie_df, revenue_df, how = 'inner', on = ['title', 'date']).dropna(subset = ['title'])\n",
    "    \n",
    "    rating_df = agg_ratings(rating_df)\n",
    "\n",
    "    merge_df = pd.merge(merge_df, rating_df, how = 'inner', on = ['movieId']).drop(['genres'], axis = 1)\n",
    "    \n",
    "    merge_df.to_csv('../UsedData/Merged_ratings_movies_revenue_New.csv', index = False)\n",
    "    return merge_df\n",
    "    \n",
    "    \n",
    " \n",
    "\n",
    "merged_df = merge_df(cleaned_23m, movie_lens_movies, ratings_23m)"
   ]
  },
  {
   "cell_type": "code",
   "execution_count": null,
   "metadata": {},
   "outputs": [],
   "source": [
    "merged_df"
   ]
  },
  {
   "cell_type": "code",
   "execution_count": null,
   "metadata": {},
   "outputs": [],
   "source": []
  }
 ],
 "metadata": {
  "kernelspec": {
   "display_name": "Python 3",
   "language": "python",
   "name": "python3"
  },
  "language_info": {
   "codemirror_mode": {
    "name": "ipython",
    "version": 3
   },
   "file_extension": ".py",
   "mimetype": "text/x-python",
   "name": "python",
   "nbconvert_exporter": "python",
   "pygments_lexer": "ipython3",
   "version": "3.7.6"
  }
 },
 "nbformat": 4,
 "nbformat_minor": 4
}
