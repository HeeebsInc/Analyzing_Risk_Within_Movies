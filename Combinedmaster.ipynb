{
 "cells": [
  {
   "cell_type": "code",
   "execution_count": null,
   "metadata": {},
   "outputs": [],
   "source": [
    "import seaborn as sns \n",
    "import pandas as pd\n",
    "import matplotlib.pyplot as plt \n",
    "from tqdm import tqdm\n",
    "import numpy as np \n",
    "import scipy.stats as sci\n",
    "from collections import defaultdict\n",
    "import matplotlib.ticker as ticker\n",
    "\n",
    "pd.options.display.max_rows = 100\n",
    "pd.options.display.max_columns = None\n",
    "%matplotlib inline "
   ]
  },
  {
   "cell_type": "markdown",
   "metadata": {},
   "source": [
    "## Parsing Functions"
   ]
  },
  {
   "cell_type": "markdown",
   "metadata": {},
   "source": [
    "## IMBD Revenue/Budget\n",
    "- [23m Dataset](https://www.kaggle.com/juzershakir/tmdb-movies-dataset)\n",
    " - Used for Gathering Revenue, Profit, and Budget"
   ]
  },
  {
   "cell_type": "code",
   "execution_count": null,
   "metadata": {},
   "outputs": [],
   "source": [
    "def budget_numeric(df):\n",
    "    '''This function will make the budget column in the dataframe numeric'''\n",
    "    new_col = []\n",
    "    new_df = df[[i for i in df.columns.to_list() if i!= 'budget']]\n",
    "    col_val = np.array(df[f'budget'])\n",
    "    for item in col_val: \n",
    "        if '.jpg' in item: \n",
    "            new_col.append(None)\n",
    "        else: \n",
    "            new_col.append(float(item))\n",
    "    new_df['budget'] = new_col\n",
    "    return new_df\n",
    "\n",
    "def profits(df):\n",
    "    '''This function will create a new column call profit by subtracting the revenue from the budget'''\n",
    "    new_df = df\n",
    "    new_df['profit'] = round(new_df.revenue - new_df.budget,2)\n",
    "    return new_df\n",
    "\n",
    "def dates_func(x):\n",
    "    '''This function will format each x from xx-xx-xxxx to xxxx'''\n",
    "    if type(x) != str: \n",
    "        return None\n",
    "    else: \n",
    "        return x.split('-')[0]\n",
    "def dates(df): \n",
    "    '''This function formats the date column of the dataframe so that it matches the other dataframes'''\n",
    "    dates = df.release_date \n",
    "    df.drop(['release_date'], axis = 1, inplace = True)\n",
    "    df['date'] = dates.map(dates_func)\n",
    "    return df\n",
    "\n",
    "def genres_one_hot(df):\n",
    "    '''This function parses the genres columns and creates a new column containing only the main identifier.\n",
    "    This function will also create seperate columns for each genre and put a 1 or 0 depending on if it is present\n",
    "    One-Hot-Encoding'''\n",
    "    genre_list = df.genres.values\n",
    "    genres = defaultdict(int)\n",
    "    new_genre = []\n",
    "    for test,i in enumerate(genre_list): \n",
    "        \n",
    "        if i[0] == '[' and i[1] == ']': \n",
    "            continue \n",
    "        dic_split = i.split('} ')\n",
    "        for d in (dic_split):\n",
    "            name_loc = d.find(\"'name': \")\n",
    "            new_d= d[name_loc +9:]\n",
    "            new_d = new_d[:new_d.find(\"'\")].strip()\n",
    "            #new_d = new_d[:new_d.find(\"'\")].strip()\n",
    "            genres[new_d]+=1\n",
    "    for g in tqdm(genres.keys()): \n",
    "        df[f'{g}'] = [0 for i in range(len(df))]\n",
    "    for pos in tqdm(range(len(df))): \n",
    "        i = df.iloc[pos].genres\n",
    "        if i[0] == '[' and i[1] == ']': \n",
    "            new_genre.append(None)\n",
    "            continue \n",
    "        dic_split = i.split('} ')\n",
    "        for idx, d in enumerate(dic_split): \n",
    "            name_loc = d.find(\"'name': \")\n",
    "            new_d= d[name_loc +9:]\n",
    "            new_d = new_d[:new_d.find(\"'\")].strip()\n",
    "            if idx == 0:\n",
    "                new_genre.append(new_d)\n",
    "            df.iloc[pos, df.columns.get_loc(f'{new_d}')] = 1\n",
    "    df['genre'] = new_genre\n",
    "    #df.drop('genres', axis =1, inplace = True)\n",
    "    df.to_csv('../UsedData/23mRevenueNEW.csv', index = False)\n",
    "    return df\n",
    "\n",
    "        \n",
    "\n",
    "ratings_25m = pd.read_csv('../../data/m_23/movies_metadata.csv')\n",
    "col = ['imdb_id', 'title', 'release_date', 'budget', 'revenue', 'genres', 'adult', 'overview']\n",
    "revenue_df = ratings_25m[[i for i in col]]\n",
    "revenue_df = genres_one_hot(dates(profits(budget_numeric(revenue_df))))\n",
    "revenue_one_hot = genres_one_hot(revenue_df)"
   ]
  },
  {
   "cell_type": "code",
   "execution_count": null,
   "metadata": {},
   "outputs": [],
   "source": [
    "revenue_one_hot.head(3)"
   ]
  },
  {
   "cell_type": "code",
   "execution_count": null,
   "metadata": {},
   "outputs": [],
   "source": []
  },
  {
   "cell_type": "markdown",
   "metadata": {},
   "source": [
    "### MovieLens Parsing\n",
    "- [MovieLens](https://grouplens.org/datasets/movielens/)\n",
    "- Used to gather user interactions "
   ]
  },
  {
   "cell_type": "code",
   "execution_count": null,
   "metadata": {},
   "outputs": [],
   "source": [
    "def dates(x):\n",
    "    '''this function reformats x to the proper date'''\n",
    "    num = '1 2 3 4 5 6 7 8 9 0'.split()\n",
    "    if x.strip()[-1] != ')' or x.strip()[-2] not in num: \n",
    "        return None\n",
    "    else: \n",
    "        return x.strip()[-5:-1]\n",
    "\n",
    "def title(x):\n",
    "    '''this function reformats the title'''\n",
    "    num = '1 2 3 4 5 6 7 8 9 0'.split()\n",
    "    x = x.strip()\n",
    "    if x[-1] != ')' or x[-2] not in num: \n",
    "        return x\n",
    "    else: \n",
    "        return x[:-5]\n",
    "\n",
    "def sort_genres(df):\n",
    "    '''This function will sort the genres in movielens to one hot encoding '''\n",
    "    genre_dict = defaultdict(int)\n",
    "    genre_list = np.array(df.genres)\n",
    "    for genre in tqdm(genre_list): \n",
    "        g_split = genre.split('|')\n",
    "        for i in g_split:\n",
    "            genre_dict[i]+=1\n",
    "    for g in tqdm(genre_dict.keys()): \n",
    "        df[f'{g}'] = [0 for i in range(len(df))]\n",
    "    for pos in tqdm(range(len(df))): \n",
    "        row = df.iloc[pos]\n",
    "        g_split = row['genres'].split('|')\n",
    "        for i in g_split: \n",
    "            df.iloc[pos, df.columns.get_loc(f'{i}')] = 1\n",
    "    df.to_csv('../UsedData/MovieLensMoviesCleaned.csv', index = False)\n",
    "    return df\n",
    "\n",
    "movie_lens = pd.read_csv('../../data/MovieLens/movies.csv')\n",
    "movie_lens['date'] = movie_lens.title.map(dates)\n",
    "title_s = movie_lens['title']\n",
    "movie_lens.drop(['title'], axis = 1, inplace = True)\n",
    "movie_lens['title'] = title_s.map(lambda x: x[:-6].strip())\n",
    "movie_lens = movie_lens[['movieId', 'title', 'date', 'genres']].sort_values(by = ['date'], ascending = False)\n",
    "movie_lens_sorted = sort_genres(movie_lens)\n",
    "print(movie_lens.shape)\n",
    "print(movie_lens.columns)"
   ]
  },
  {
   "cell_type": "code",
   "execution_count": null,
   "metadata": {},
   "outputs": [],
   "source": [
    "movie_lens.head(1)"
   ]
  },
  {
   "cell_type": "markdown",
   "metadata": {},
   "source": [
    "## Graphing Functions"
   ]
  },
  {
   "cell_type": "code",
   "execution_count": null,
   "metadata": {},
   "outputs": [],
   "source": [
    "#creates boxplot\n",
    "def box_plot(df, year, column): \n",
    "    '''This function will create a boxplot for a given column across a range of years \n",
    "    \n",
    "    Parameters\n",
    "    ----------\n",
    "    df = Movie DataFrame \n",
    "    year = the year to start the box plot  [2015 will create a boxplot from 2015-2017 with each row as a seperate year]'\n",
    "    column = column for the boxplot'''\n",
    "    \n",
    "\n",
    "    sns.set(font_scale = 2, style = 'whitegrid', rc = {'grid.linewidth': .5})\n",
    "    genre_dic = defaultdict(list)\n",
    "    year_dic = defaultdict(list)\n",
    "    years = list(range(year, 2021))\n",
    "    df = df[(df.revenue > 0) & (df.budget > 0)& (df.date >= year)] # (df.date.isin(years))]\n",
    "    genre_list = 'Adventure Fantasy Animation Horror Action Crime Comedy Thriller War Romance'.split()\n",
    "    new_df = pd.DataFrame(columns = ['title', 'date', 'genre', 'budget', 'revenue', 'profit'])\n",
    "    for g in genre_list: \n",
    "        g_df = df[df[f'{g}'] == 1][['title', 'date', 'budget', 'revenue', 'profit']]\n",
    "        g_df['genre'] = [g for i in range(len(g_df))]\n",
    "        new_df = new_df.append(g_df, ignore_index = True)\n",
    "    ax = sns.catplot(x = 'genre', y = 'profit', \n",
    "                     data = new_df, kind = 'box', height =10, aspect =2, legend_out = True, color = 'deepskyblue',\n",
    "                    width = .5) \n",
    "    ax.set(ylabel = 'Profit (hundred-millions)', xlabel = 'Genres')\n",
    "    plt.title(f'Box Plot For Popular Genres from {year}-2017')\n",
    "    plt.savefig(f'../PlotImages/BoxPlot_genres_{year}.png')\n",
    "    plt.show(ax)\n",
    "\n",
    "\n",
    "#   \n",
    "\n",
    "merged_df = pd.read_csv('../UsedData/Merged_ratings_movies_revenue.csv')\n",
    "merged_df = merged_df[(merged_df.revenue > 0) & (merged_df.budget >0)] #making sure to use movies with a revenue and budget\n",
    "box_plot(merged_df, 2010, 'profit')"
   ]
  },
  {
   "cell_type": "code",
   "execution_count": null,
   "metadata": {},
   "outputs": [],
   "source": [
    "def scatter_sized(df, year, pos_neg = False): \n",
    "    '''This function will create a scatter plot for each genre'''\n",
    "    df = df[(df.date >= year) & (df.budget > 0) & (df.revenue > 0)]\n",
    "    \n",
    "    fig, ax = plt.subplots(figsize = (10,8))\n",
    "    count = df[(df.profit < 0) | (df.profit > 100000000)].genre.value_counts()    \n",
    "\n",
    "\n",
    "    if pos_neg == 'positive':\n",
    "        df = df[df.profit > 100000000]\n",
    "        pos_neg = 'POSITIVE'\n",
    "        s_factor = 1000000\n",
    "        tick_color = 'green'\n",
    "    elif pos_neg == 'negative': \n",
    "        df = df[df.profit < 0]\n",
    "        pos_neg = 'NEGATIVE'\n",
    "        s_factor = 100000\n",
    "        tick_color = 'red'\n",
    "    else: \n",
    "        df = df[(df.profit < 0) | (df.profit > 100000000)]\n",
    "        pos_neg = 'COMBINED'\n",
    "        s_factor = 1000000\n",
    "        tick_color = 'black'\n",
    "    color = pd.Categorical(df.genre.value_counts().index.to_list()).codes\n",
    "    num_dic = {'#eeefff':'Action', '#F1F906': 'Drama', '2': 'Comedy', '3': 'Adventure', \n",
    "                 '4': 'Horror', '5': 'Thriller', '6': 'Crime', '7': 'Family', \n",
    "                 '8': 'Animation', '9': 'Romance', '10': 'Mystery', \n",
    "                 '11': 'Fantasy', '12': 'War', '13': 'Science Fiction'}\n",
    "    genre_dic = {value:key for key, value in num_dic.items()}\n",
    "    for genre in genre_dic.keys():\n",
    "        genre_count = df.genre.value_counts()\n",
    "        if genre in genre_count.index.to_list(): \n",
    "            g_count = genre_count[genre]\n",
    "        else: \n",
    "            g_count = 0\n",
    "        new_df = df[df.genre == genre]\n",
    "        budget = new_df.budget /1000000\n",
    "        profit = new_df.profit / 1000000\n",
    "        s = new_df.revenue / s_factor\n",
    "        if len(budget) < 2 or len(profit) < 2: \n",
    "            continue\n",
    "        pearson = round(sci.stats.pearsonr(budget, profit)[0],3)\n",
    "        if genre in ['Action', 'Comedy', 'Adventure', 'Drama']: \n",
    "            marker = 'H'\n",
    "        else: \n",
    "            marker = 'o'\n",
    "        perc = round((g_count / count[genre]*100), 2) \n",
    "        ax.scatter(budget, profit, cmap = genre_dic[genre], s = s, label = f'{genre} ({perc}%) [r = {pearson}]', \n",
    "                   alpha = .5, marker = marker)\n",
    "    lgnd = plt.legend(bbox_to_anchor = (1.05, 1.0), loc = 'upper left')\n",
    "    for i in range(len(genre_dic.keys())): \n",
    "        try:\n",
    "            lgnd.legendHandles[i]._sizes = [500]\n",
    "        except: \n",
    "            break\n",
    "    formatter = ticker.StrMethodFormatter('${x:,.0f}')\n",
    "    ax.yaxis.set_major_formatter(formatter)\n",
    "    ax.xaxis.set_major_formatter(formatter)\n",
    "    for ytick, xtick in zip(ax.yaxis.get_major_ticks(), ax.xaxis.get_major_ticks()): \n",
    "        ytick.label1.set_visible(True)\n",
    "        ytick.label2.set_visible(False)\n",
    "        ytick.label1.set_color('black')  \n",
    "        xtick.label1.set_visible(True)\n",
    "        xtick.label2.set_visible(False)\n",
    "    \n",
    "    plt.title(f'({pos_neg.upper()}) | Comparing Profit(y), Budget(x), and Revenue(size) by Genres (color) [{year}-2019]',\n",
    "             fontname = 'Arial')\n",
    "    plt.xlabel('Movie Budget (millions)'); plt.ylabel('Movie Profit(millions)', fontname = 'Arial')\n",
    "    plt.grid()\n",
    "    plt.savefig(f'../PlotImages/profit_budget_revenue_{pos_neg}[{year}].png', bbox_inches = 'tight')\n",
    "\n",
    "scatter_sized(merged_df, 2015, pos_neg = 'combined')"
   ]
  },
  {
   "cell_type": "code",
   "execution_count": null,
   "metadata": {},
   "outputs": [],
   "source": [
    "def budget_line_plot(df, year, column, genre_list): \n",
    "    \n",
    "    num_dic = {'#eeefff':'Action', '#F1F906': 'Drama', '2': 'Comedy', '3': 'Adventure', \n",
    "                 '4': 'Horror', '5': 'Thriller', '6': 'Crime', '7': 'Family', \n",
    "                 '8': 'Animation', '9': 'Romance', '10': 'Mystery', \n",
    "                 '11': 'Fantasy', '12': 'War', '13': 'Science Fiction'}\n",
    "    genre_dic = {value:key for key, value in num_dic.items()}\n",
    "    \n",
    "    fig, ax = plt.subplots(figsize=(18,8))\n",
    "\n",
    "\n",
    "    df = df[(df.date >= year) & (df.budget > 0) & (df.revenue > 0) & (df.profit) > 0]\n",
    "    new_df = pd.DataFrame(columns = ['date', 'genre', 'avg_profit'])\n",
    "    for g in genre_list: \n",
    "        g_df = df[df[f'{g}'] == 1][['date', 'budget']].groupby('date').budget.mean()\n",
    "        for i in g_df: \n",
    "            g_dic = {'date': [i for i in g_df.index], 'genre': [g for i in range(len(g_df))],\n",
    "                    'avg_budget': g_df.values}\n",
    "            g_dic = pd.DataFrame(g_dic)\n",
    "            new_df = new_df.append(g_dic, ignore_index = True)\n",
    "    for g in genre_list: \n",
    "        g_df = new_df[new_df.genre == g].sort_values(by = 'date')\n",
    "        x = g_df.date.values \n",
    "        y = g_df.avg_budget \n",
    "        pearson = round(sci.stats.pearsonr(x, y)[0],3)\n",
    "        ax.plot(x,y,label = f'{g} (r = {pearson})', marker = 'o')\n",
    "    lgnd = plt.legend(bbox_to_anchor = (1.05, 1.0), loc = 'upper left')\n",
    "    formatter = ticker.StrMethodFormatter('${x:,.0f}')\n",
    "    ax.yaxis.set_major_formatter(formatter)\n",
    "    for ytick, xtick in zip(ax.yaxis.get_major_ticks(),ax.xaxis.get_major_ticks()): \n",
    "        ytick.label1.set_visible(True)\n",
    "        ytick.label2.set_visible(False)\n",
    "        ytick.label1.set_color('black')\n",
    "        ytick.label1.set_fontsize(14)\n",
    "        xtick.label1.set_fontsize(14)\n",
    "    lgnd = plt.legend(bbox_to_anchor = (1.05, 1.0), loc = 'upper left',\n",
    "                     prop = {'size': 20})\n",
    "    for i in range(len(genre_dic.keys())): \n",
    "        try:\n",
    "            lgnd.legendHandles[i]._sizes = [500]\n",
    "        except: \n",
    "            break\n",
    "    plt.title(f'Change in Average Budget for Profitable Movies Since {year}', {'size':16})\n",
    "    plt.xlabel('Year', {'size':20})\n",
    "    plt.ylabel('Mean Budget', {'size':20})\n",
    "    plt.savefig('GitImages/change_over_time_budget.png', bbox_inches = 'tight')\n",
    "merged_df = pd.read_csv('UsedData/Merged_ratings_movies_revenue.csv')          \n",
    "budget_line_plot(merged_df, 2010, 'profit', 'Adventure Action Comedy Horror'.split())"
   ]
  },
  {
   "cell_type": "markdown",
   "metadata": {},
   "source": [
    "# Start of Michael's Notebook"
   ]
  },
  {
   "cell_type": "markdown",
   "metadata": {},
   "source": [
    "### Importing and formatting"
   ]
  },
  {
   "cell_type": "code",
   "execution_count": null,
   "metadata": {},
   "outputs": [],
   "source": [
    "import pandas as pd \n",
    "import numpy as np\n",
    "import matplotlib\n",
    "import matplotlib.pyplot as plt \n",
    "import seaborn as sns\n",
    "font = {'family' : 'DejaVu Sans',\n",
    "        'weight' : 'bold',\n",
    "        'size'   : 19}\n",
    "matplotlib.rc('font', **font) #Formatting plots to be more legible\n"
   ]
  },
  {
   "cell_type": "markdown",
   "metadata": {},
   "source": [
    "## Defining useful methods"
   ]
  },
  {
   "cell_type": "code",
   "execution_count": null,
   "metadata": {},
   "outputs": [],
   "source": [
    "def initialClean(dataset):   #Initial cleanup of missing/NaN Data\n",
    "    subSet = dataset\n",
    "    subSet = subSet.loc[subSet['revenue']>0,:].loc[(subSet['budget']>100),:].loc[(subSet['title']!=\"The Tiger: An Old Hunter's Tale\")].loc[(subSet.profit!=0),:].loc[subSet.date>=2010]\n",
    "    subSet['ROI']=np.array(subSet.profit)/np.array(subSet.budget)\n",
    "    subSet.sort_values('ROI',ascending=False,inplace=True)\n",
    "    return subSet\n",
    "    \n",
    "\n",
    "def getGenreSet(dataset, genre):    #subsetting rows by genres\n",
    "    return dataset.loc[dataset[genre]==1]\n",
    "    \n",
    "    \n",
    "    \n",
    "def getPosNegSubset(dataset,x=[1,-1]):       #Subsetting rows by either positive or negative ROI\n",
    "    if (x==1):\n",
    "        return dataset.loc[dataset.ROI>=0]\n",
    "    elif (x==(-1)):\n",
    "        return dataset.sort_values('ROI',ascending=False).loc[dataset.ROI<0]\n",
    "        \n",
    "        \n",
    "def plotHists(dataframes, column, titles):      #Histogram Plotter\n",
    "    for i,dataframe in enumerate(dataframes):\n",
    "        plt.subplot((len(dataframes)/2 + len(dataframes)%2),2,i+1)\n",
    "        color = 'darkgreen'\n",
    "        if i%2==1:\n",
    "            color = 'darkred'\n",
    "        n, bins, patches=plt.hist(dataframe[column],int(dataframe[column].describe()[0]/10),(dataframe[column].min(),dataframe[column].mean()+dataframe[column].std()+.5),color=color)\n",
    "        y = np.linspace(0,max(n),50)\n",
    "        xmean = np.full((50,1),dataframe[column].mean())\n",
    "        xStdLow = np.full((50,1),dataframe[column].mean()-dataframe[column].std())\n",
    "        xStdHigh = np.full((50,1),dataframe[column].mean()+dataframe[column].std())\n",
    "        plt.plot(xmean,y, label=\"Mean\")\n",
    "        plt.plot(xStdLow,y,ls='--',color='lightblue',label=\"Upper, Lower Stdev\")\n",
    "        plt.plot(xStdHigh,y,ls='--',color='lightblue')\n",
    "        plt.title(titles[i])\n",
    "        plt.xlabel('Return on Investment')\n",
    "        plt.ylabel('Frequency (# of movies)')\n",
    "        plt.legend(loc=1)\n",
    "        freq = 1\n",
    "        if len(bins)>60:\n",
    "            freq = 3\n",
    "        ticks = plt.xticks(np.arange(int(min(bins)), int(max(bins))+1, freq))\n",
    "        \n",
    "def plotScatter(dataset,name):     #Scatter plotter\n",
    "    figScatter = plt.figure(figsize=(20,20))\n",
    "    dataSubSet = dataset.loc[dataset.ROI>=0]\n",
    "    plt.scatter(dataSubSet.budget,dataSubSet.revenue,color='darkgreen',label='n='+str(dataSubSet.shape[0]))\n",
    "    dataSubSet = dataset.loc[dataset.ROI<0]\n",
    "    plt.scatter(dataSubSet.budget,dataSubSet.revenue,color='darkred',label='n='+ str(dataSubSet.shape[0]))\n",
    "    plotlimit = dataset.profit.max()\n",
    "    plt.plot(np.linspace(0,plotlimit),np.linspace(0,plotlimit))\n",
    "    plt.xlim(0,plotlimit)\n",
    "    plt.ylim(0,plotlimit)\n",
    "    plt.plot(np.linspace(dataSubSet.budget.max(),dataSubSet.budget.max(),500),np.linspace(0,plotlimit,500), color='darkorange',ls='--',lw=2,label='Lower budget bound = $'+str(round(dataSubSet.budget.max()/1e9,3)) +\" Billion Dollars\")\n",
    "    plt.title('Budget vs Revenue in ' + name + ' Movies (2010-2020)')\n",
    "    plt.xlabel('Budget in Billions ($)')\n",
    "    plt.ylabel('Revenue in Billions ($)')\n",
    "    plt.legend(loc=1)\n",
    "    figScatter.savefig('mwangPlotImages/'+name+'Scatter.png')\n",
    "    return dataSubSet.budget.max(), dataSubSet.shape[1]/(dataSubSet.shape[0]+dataSubSet.shape[1])*100\n",
    "    "
   ]
  },
  {
   "cell_type": "markdown",
   "metadata": {},
   "source": [
    "Initial import of Sam's clean merged dataset, further cleaning and exploration into this main set"
   ]
  },
  {
   "cell_type": "code",
   "execution_count": null,
   "metadata": {},
   "outputs": [],
   "source": [
    "merged=initialClean(pd.read_csv(\"UsedData/Merged_ratings_movies_revenue.csv\"))\n",
    "merged"
   ]
  },
  {
   "cell_type": "code",
   "execution_count": null,
   "metadata": {},
   "outputs": [],
   "source": [
    "genre_list = np.array(merged.columns[3:16])"
   ]
  },
  {
   "cell_type": "markdown",
   "metadata": {},
   "source": [
    "# Compiling subsets for plotting"
   ]
  },
  {
   "cell_type": "code",
   "execution_count": null,
   "metadata": {
    "scrolled": true
   },
   "outputs": [],
   "source": [
    "comedy_df = getGenreSet(merged,'Comedy')\n",
    "romance_df = getGenreSet(merged,'Romance')\n",
    "drama_df = getGenreSet(merged,'Drama')\n",
    "children_df = getGenreSet(merged,'Children')\n",
    "crime_df = getGenreSet(merged,'Crime')\n",
    "mystery_df = getGenreSet(merged,'Mystery')\n",
    "action_df = getGenreSet(merged,'Action')\n",
    "documentary_df = getGenreSet(merged,'Documentary')\n",
    "fantasy_df = getGenreSet(merged,'Fantasy')\n",
    "thriller_df = getGenreSet(merged,'Thriller')\n",
    "horror_df = getGenreSet(merged,'Horror')\n",
    "animation_df = getGenreSet(merged,'Animation')\n",
    "adventure_df = getGenreSet(merged,'Adventure')\n",
    "\n",
    "genre_df_list = [comedy_df,romance_df,drama_df,children_df,crime_df,mystery_df,action_df,documentary_df,fantasy_df,thriller_df,horror_df,animation_df,adventure_df]\n",
    "posROI_df = getPosNegSubset(merged,x=1)\n",
    "negROI_df = getPosNegSubset(merged,x=-1)"
   ]
  },
  {
   "cell_type": "code",
   "execution_count": null,
   "metadata": {
    "scrolled": true
   },
   "outputs": [],
   "source": [
    "genrelist = [action_df,drama_df,adventure_df,animation_df]\n",
    "titles = ['Frequency of ROI in Action movies (N='+ str(len(genrelist[0].ROI))+')',\n",
    "         'Frequency of ROI in Drama movies (N='+ str(len(genrelist[1].ROI))+')',\n",
    "         'Frequency of ROI in Adventure movies (N='+ str(len(genrelist[2].ROI))+')',\n",
    "         'Frequency of ROI in Animation movies (N='+ str(len(genrelist[3].ROI))+')',]\n",
    "figHist = plt.figure(figsize=(30,20))\n",
    "plotHists(genrelist,'ROI',titles)\n",
    "figHist.savefig('mwangPlotImages/genreHistogram.png')"
   ]
  },
  {
   "cell_type": "markdown",
   "metadata": {},
   "source": [
    "Subplotting 4 genres that caught my attention by ROI frequency distributions"
   ]
  },
  {
   "cell_type": "code",
   "execution_count": null,
   "metadata": {
    "scrolled": false
   },
   "outputs": [],
   "source": [
    "genrelist = [action_df,drama_df,adventure_df,animation_df]\n",
    "titles = ['Frequency of ROI in Action movies (N='+ str(len(genrelist[0].ROI))+')',\n",
    "         'Frequency of ROI in Drama movies (N='+ str(len(genrelist[1].ROI))+')',\n",
    "         'Frequency of ROI in Adventure movies (N='+ str(len(genrelist[2].ROI))+')',\n",
    "         'Frequency of ROI in Animation movies (N='+ str(len(genrelist[3].ROI))+')',]\n",
    "figHist = plt.figure(figsize=(30,20))\n",
    "plotHists(genrelist,'ROI',titles)"
   ]
  },
  {
   "cell_type": "markdown",
   "metadata": {},
   "source": [
    "Subplotting positive and negative ROI frequency distributions"
   ]
  },
  {
   "cell_type": "code",
   "execution_count": null,
   "metadata": {},
   "outputs": [],
   "source": [
    "titles = ['Frequency Distribution of Profitable Movies (N='+ str(len(posROI_df.ROI))+')',\n",
    "         'Frequency Distribution of Non-Profitable Movies (N='+ str(len(negROI_df.ROI))+')']\n",
    "figPosNegHist = plt.figure(figsize=(30,10))\n",
    "plotHists([posROI_df,negROI_df],'ROI',titles)\n",
    "figPosNegHist.savefig('mwangPlotImages/PosNegHist.png')"
   ]
  },
  {
   "cell_type": "markdown",
   "metadata": {},
   "source": [
    "Peeking at distribution of data to see if we can see any trends"
   ]
  },
  {
   "cell_type": "code",
   "execution_count": null,
   "metadata": {},
   "outputs": [],
   "source": [
    "print('POSITIVE \\n' + str(posROI_df.ROI.describe())+'\\n')\n",
    "print('NEGATIVE \\n' + str(negROI_df.ROI.describe()))"
   ]
  },
  {
   "cell_type": "markdown",
   "metadata": {},
   "source": [
    "# Creating a scatter of Revenue vs budget of Action movies in last 10 years"
   ]
  },
  {
   "cell_type": "code",
   "execution_count": null,
   "metadata": {},
   "outputs": [],
   "source": [
    "figScatter = plt.figure(figsize=(27,20))\n",
    "actionsub_df = action_df.loc[action_df.ROI>=0]\n",
    "plt.scatter(actionsub_df.budget,actionsub_df.revenue,color='darkgreen',label='n='+str(actionsub_df.shape[0]))\n",
    "actionsub_df = action_df.loc[action_df.ROI<0]\n",
    "plt.scatter(actionsub_df.budget,actionsub_df.revenue,color='darkred',label='n='+ str(actionsub_df.shape[0]))\n",
    "plt.plot(np.linspace(0,1.6e9),np.linspace(0,1.6e9))\n",
    "plt.xlim(0,1.6e9)\n",
    "plt.ylim(0,1.6e9)\n",
    "plt.plot(np.linspace(actionsub_df.budget.max(),actionsub_df.budget.max(),500),np.linspace(0,1.6e9,500), color='darkorange',ls='--',lw=2,label='Lower budget bound = $'+str(round(actionsub_df.budget.max()/1e9,3)) +\" Billion Dollars\")\n",
    "plt.title('Budget vs Revenue in Action Movies (2010-2020)')\n",
    "plt.xlabel('Budget in Billions ($)')\n",
    "plt.ylabel('Revenue in Billions ($)')\n",
    "plt.legend(loc=1)\n",
    "figScatter.savefig('mwangPlotImages/ActionScatter.png')\n",
    "\n"
   ]
  },
  {
   "cell_type": "markdown",
   "metadata": {},
   "source": [
    "# Seeing how it compares against animation"
   ]
  },
  {
   "cell_type": "code",
   "execution_count": null,
   "metadata": {},
   "outputs": [],
   "source": [
    "figActionAnimation = plt.figure(figsize=(40,20))\n",
    "plt.subplot(1,2,1)\n",
    "actionsub_df = action_df.loc[action_df.ROI>=0]\n",
    "plt.scatter(actionsub_df.budget,actionsub_df.revenue,color='darkgreen',label='n='+str(actionsub_df.shape[0]))\n",
    "actionsub_df = action_df.loc[action_df.ROI<0]\n",
    "plt.scatter(actionsub_df.budget,actionsub_df.revenue,color='darkred',label='n='+ str(actionsub_df.shape[0]))\n",
    "plt.plot(np.linspace(0,1.6e9),np.linspace(0,1.6e9))\n",
    "plt.xlim(0,1.6e9)\n",
    "plt.ylim(0,1.6e9)\n",
    "plt.plot(np.linspace(actionsub_df.budget.max(),actionsub_df.budget.max(),500),np.linspace(0,1.6e9,500), color='darkorange',ls='--',lw=2,label='Lower budget bound = $'+str(round(actionsub_df.budget.max()/1e9,3)) +\" Billion Dollars\")\n",
    "plt.title('Budget vs Revenue in Action Movies (2010-2020)')\n",
    "plt.xlabel('Budget in Billions ($)')\n",
    "plt.ylabel('Revenue in Billions ($)')\n",
    "plt.legend(loc=1)\n",
    "\n",
    "#Second subplot\n",
    "plt.subplot(1,2,2)\n",
    "plt.xlim(0,1.3e9)\n",
    "plt.ylim(0,1.3e9)\n",
    "animationsub_df = animation_df.loc[animation_df.ROI>=0]\n",
    "plt.scatter(animationsub_df.budget,animationsub_df.revenue,color='darkgreen',label='n='+str(animationsub_df.shape[0]))\n",
    "animationsub_df = animation_df.loc[animation_df.ROI<0]\n",
    "plt.scatter(animationsub_df.budget,animationsub_df.revenue,color='darkred',label='n='+ str(animationsub_df.shape[0]))\n",
    "plt.plot(np.linspace(0,1.3e9),np.linspace(0,1.3e9))\n",
    "plt.plot(np.linspace(animationsub_df.budget.max(),animationsub_df.budget.max(),500),np.linspace(0,1.3e9,500), color='darkorange',ls='--',lw=2,label='Lower budget bound = $'+str(animationsub_df.budget.max()/1e9) +\" Billion Dollars\")\n",
    "plt.title('Budget vs Revenue in Animation Movies (2010-2020)')\n",
    "plt.xlabel('Budget in Billions ($)')\n",
    "plt.ylabel('Revenue in Billions ($)')\n",
    "plt.legend(loc=1)\n",
    "\n",
    "figActionAnimation.savefig('mwangPlotImages/ActionAnimationScatter.png')"
   ]
  },
  {
   "cell_type": "markdown",
   "metadata": {},
   "source": [
    "## Plotting one scatter independantly to explore shape"
   ]
  },
  {
   "cell_type": "code",
   "execution_count": null,
   "metadata": {
    "scrolled": true
   },
   "outputs": [],
   "source": [
    "figScatter = plt.figure(figsize=(20,20))\n",
    "actionsub_df = action_df.loc[action_df.ROI>=0]\n",
    "plt.scatter(actionsub_df.budget,actionsub_df.revenue,color='darkgreen',label='n='+str(actionsub_df.shape[0]))\n",
    "actionsub_df = action_df.loc[action_df.ROI<0]\n",
    "plt.scatter(actionsub_df.budget,actionsub_df.revenue,color='darkred',label='n='+ str(actionsub_df.shape[0]))\n",
    "plt.plot(np.linspace(0,1.6e9),np.linspace(0,1.6e9))\n",
    "plt.xlim(0,1.6e9)\n",
    "plt.ylim(0,1.6e9)\n",
    "plt.plot(np.linspace(actionsub_df.budget.max(),actionsub_df.budget.max(),500),np.linspace(0,1.6e9,500), color='darkorange',ls='--',lw=2)\n",
    "plt.title('Budget vs Revenue in Action Movies (2010-2020)')\n",
    "plt.xlabel('Budget in Billions ($)')\n",
    "plt.ylabel('Revenue in Billions ($)')\n",
    "plt.legend(loc=1)\n",
    "figScatter.savefig('mwangPlotImages/ActionScatter.png')\n",
    "\n",
    "\n"
   ]
  },
  {
   "cell_type": "markdown",
   "metadata": {},
   "source": [
    "Checking out which subsets have more datapoints, seeing if more datapoints correlate to more accurate predictions etc."
   ]
  },
  {
   "cell_type": "code",
   "execution_count": null,
   "metadata": {
    "scrolled": true
   },
   "outputs": [],
   "source": [
    "df = merged.loc[:,'Comedy':'Sci-Fi']\n",
    "for x in df:\n",
    "    print(x + \" data points = \" + str(df[x].value_counts()[1]))"
   ]
  },
  {
   "cell_type": "markdown",
   "metadata": {},
   "source": [
    "# Scatter plotting all genres and gathering useful data from plots"
   ]
  },
  {
   "cell_type": "code",
   "execution_count": null,
   "metadata": {
    "scrolled": false
   },
   "outputs": [],
   "source": [
    "aggArr = np.zeros((len(genre_df_list),2))\n",
    "for i,genre in enumerate(genre_df_list):\n",
    "    budgetLim, successRate = plotScatter(genre,genre.columns[i+3])\n",
    "    aggArr[i][0] = budgetLim\n",
    "    aggArr[i][1] = successRate\n"
   ]
  },
  {
   "cell_type": "markdown",
   "metadata": {},
   "source": [
    "Compiling a Dataframe of minimum suggested budgets & respective success rate on each genre to visualize, make suggestions"
   ]
  },
  {
   "cell_type": "code",
   "execution_count": null,
   "metadata": {
    "scrolled": true
   },
   "outputs": [],
   "source": [
    "genreBudgetDict = dict(zip(genre_list,aggArr)) \n",
    "genresAgg_df = pd.DataFrame.from_dict(genreBudgetDict,orient='index',columns=['Min_Req_Budget','Success_Rate'])\n",
    "print(genresAgg_df)"
   ]
  }
 ],
 "metadata": {
  "kernelspec": {
   "display_name": "Python 3",
   "language": "python",
   "name": "python3"
  },
  "language_info": {
   "codemirror_mode": {
    "name": "ipython",
    "version": 3
   },
   "file_extension": ".py",
   "mimetype": "text/x-python",
   "name": "python",
   "nbconvert_exporter": "python",
   "pygments_lexer": "ipython3",
   "version": "3.7.6"
  },
  "varInspector": {
   "cols": {
    "lenName": 16,
    "lenType": 16,
    "lenVar": 40
   },
   "kernels_config": {
    "python": {
     "delete_cmd_postfix": "",
     "delete_cmd_prefix": "del ",
     "library": "var_list.py",
     "varRefreshCmd": "print(var_dic_list())"
    },
    "r": {
     "delete_cmd_postfix": ") ",
     "delete_cmd_prefix": "rm(",
     "library": "var_list.r",
     "varRefreshCmd": "cat(var_dic_list()) "
    }
   },
   "position": {
    "height": "529px",
    "left": "1375px",
    "right": "20px",
    "top": "21px",
    "width": "350px"
   },
   "types_to_exclude": [
    "module",
    "function",
    "builtin_function_or_method",
    "instance",
    "_Feature"
   ],
   "window_display": true
  }
 },
 "nbformat": 4,
 "nbformat_minor": 4
}
